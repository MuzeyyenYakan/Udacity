{
 "cells": [
  {
   "cell_type": "markdown",
   "metadata": {},
   "source": [
    "# Neural networks with PyTorch\n",
    "\n",
    "Deep learning networks tend to be massive with dozens or hundreds of layers, that's where the term \"deep\" comes from. You can build one of these deep networks using only weight matrices as we did in the previous notebook, but in general it's very cumbersome and difficult to implement. PyTorch has a nice module `nn` that provides a nice way to efficiently build large neural networks."
   ]
  },
  {
   "cell_type": "code",
   "execution_count": 1,
   "metadata": {},
   "outputs": [],
   "source": [
    "# Import necessary packages\n",
    "\n",
    "%matplotlib inline\n",
    "%config InlineBackend.figure_format = 'retina'\n",
    "\n",
    "import numpy as np\n",
    "import torch\n",
    "\n",
    "import helper\n",
    "\n",
    "import matplotlib.pyplot as plt"
   ]
  },
  {
   "cell_type": "markdown",
   "metadata": {},
   "source": [
    "\n",
    "Now we're going to build a larger network that can solve a (formerly) difficult problem, identifying text in an image. Here we'll use the MNIST dataset which consists of greyscale handwritten digits. Each image is 28x28 pixels, you can see a sample below\n",
    "\n",
    "<img src='assets/mnist.png'>\n",
    "\n",
    "Our goal is to build a neural network that can take one of these images and predict the digit in the image.\n",
    "\n",
    "First up, we need to get our dataset. This is provided through the `torchvision` package. The code below will download the MNIST dataset, then create training and test datasets for us. Don't worry too much about the details here, you'll learn more about this later."
   ]
  },
  {
   "cell_type": "code",
   "execution_count": 2,
   "metadata": {},
   "outputs": [
    {
     "name": "stdout",
     "output_type": "stream",
     "text": [
      "Downloading http://yann.lecun.com/exdb/mnist/train-images-idx3-ubyte.gz\n",
      "Downloading http://yann.lecun.com/exdb/mnist/train-labels-idx1-ubyte.gz\n",
      "Downloading http://yann.lecun.com/exdb/mnist/t10k-images-idx3-ubyte.gz\n",
      "Downloading http://yann.lecun.com/exdb/mnist/t10k-labels-idx1-ubyte.gz\n",
      "Processing...\n",
      "Done!\n"
     ]
    }
   ],
   "source": [
    "### Run this cell\n",
    "\n",
    "from torchvision import datasets, transforms\n",
    "\n",
    "# Define a transform to normalize the data\n",
    "transform = transforms.Compose([transforms.ToTensor(),\n",
    "                              transforms.Normalize((0.5,), (0.5,)),\n",
    "                              ])\n",
    "\n",
    "# Download and load the training data\n",
    "trainset = datasets.MNIST('~/.pytorch/MNIST_data/', download=True, train=True, transform=transform)\n",
    "trainloader = torch.utils.data.DataLoader(trainset, batch_size=64, shuffle=True)"
   ]
  },
  {
   "cell_type": "markdown",
   "metadata": {},
   "source": [
    "We have the training data loaded into `trainloader` and we make that an iterator with `iter(trainloader)`. Later, we'll use this to loop through the dataset for training, like\n",
    "\n",
    "```python\n",
    "for image, label in trainloader:\n",
    "    ## do things with images and labels\n",
    "```\n",
    "\n",
    "You'll notice I created the `trainloader` with a batch size of 64, and `shuffle=True`. The batch size is the number of images we get in one iteration from the data loader and pass through our network, often called a *batch*. And `shuffle=True` tells it to shuffle the dataset every time we start going through the data loader again. But here I'm just grabbing the first batch so we can check out the data. We can see below that `images` is just a tensor with size `(64, 1, 28, 28)`. So, 64 images per batch, 1 color channel, and 28x28 images."
   ]
  },
  {
   "cell_type": "code",
   "execution_count": 3,
   "metadata": {},
   "outputs": [
    {
     "name": "stdout",
     "output_type": "stream",
     "text": [
      "<class 'torch.Tensor'>\n",
      "torch.Size([64, 1, 28, 28])\n",
      "torch.Size([64])\n"
     ]
    }
   ],
   "source": [
    "dataiter = iter(trainloader)\n",
    "images, labels = dataiter.next()\n",
    "print(type(images))\n",
    "print(images.shape)\n",
    "print(labels.shape)"
   ]
  },
  {
   "cell_type": "markdown",
   "metadata": {},
   "source": [
    "This is what one of the images looks like. "
   ]
  },
  {
   "cell_type": "code",
   "execution_count": 5,
   "metadata": {
    "scrolled": true
   },
   "outputs": [
    {
     "data": {
      "image/png": "[encoded data removed]",
      "text/plain": [
       "<matplotlib.figure.Figure at 0x7f2fdc772400>"
      ]
     },
     "metadata": {
      "image/png": {
       "height": 250,
       "width": 253
      },
      "needs_background": "light"
     },
     "output_type": "display_data"
    }
   ],
   "source": [
    "plt.imshow(images[1].numpy().squeeze(), cmap='Greys_r');"
   ]
  },
  {
   "cell_type": "markdown",
   "metadata": {},
   "source": [
    "First, let's try to build a simple network for this dataset using weight matrices and matrix multiplications. Then, we'll see how to do it using PyTorch's `nn` module which provides a much more convenient and powerful method for defining network architectures.\n",
    "\n",
    "The networks you've seen so far are called *fully-connected* or *dense* networks. Each unit in one layer is connected to each unit in the next layer. In fully-connected networks, the input to each layer must be a one-dimensional vector (which can be stacked into a 2D tensor as a batch of multiple examples). However, our images are 28x28 2D tensors, so we need to convert them into 1D vectors. Thinking about sizes, we need to convert the batch of images with shape `(64, 1, 28, 28)` to a have a shape of `(64, 784)`, 784 is 28 times 28. This is typically called *flattening*, we flattened the 2D images into 1D vectors.\n",
    "\n",
    "Previously you built a network with one output unit. Here we need 10 output units, one for each digit. We want our network to predict the digit shown in an image, so what we'll do is calculate probabilities that the image is of any one digit or class. This ends up being a discrete probability distribution over the classes (digits) that tells us the most likely class for the image. That means we need 10 output units for the 10 classes (digits). We'll see how to convert the network output into a probability distribution next.\n",
    "\n",
    "> **Exercise:** Flatten the batch of images `images`. Then build a multi-layer network with 784 input units, 256 hidden units, and 10 output units using random tensors for the weights and biases. For now, use a sigmoid activation for the hidden layer. Leave the output layer without an activation, we'll add one that gives us a probability distribution next."
   ]
  },
  {
   "cell_type": "code",
   "execution_count": 11,
   "metadata": {},
   "outputs": [
    {
     "name": "stdout",
     "output_type": "stream",
     "text": [
      "torch.Size([64, 10])\n",
      "tensor([[ -4.4009,  20.1287, -10.1511,  -6.9383,   5.2952,   7.9706,\n",
      "           5.9619,   6.1680,   1.0942,  10.5827],\n",
      "        [ -8.7460,  30.6885,  -9.4192,   1.3919,   7.0396,   9.1720,\n",
      "           4.4872,   8.3456,   2.8002,   4.3941],\n",
      "        [ -7.5553,  16.4914,   1.1788,   6.3990,   0.0181,   3.9329,\n",
      "          -1.5838,   4.3646,   4.1814,   9.0077],\n",
      "        [ -5.8946,  15.8792,   1.0618,  -0.5794,   2.0583,  12.7726,\n",
      "           4.8834,  12.8537,  13.8586,  -0.9983],\n",
      "        [ -2.8569,  23.9812,  -0.8792,  -2.8695,  14.4677,   0.4666,\n",
      "           5.3688,   6.2058,  13.9927,   0.0025],\n",
      "        [ -5.8619,  19.9038, -11.1362,   1.3277,   2.4824,  -1.1290,\n",
      "          -5.8846,   3.9579,  17.0354,   8.1846],\n",
      "        [  0.9592,  24.9806,  -1.6920,   0.8731,  11.7371,   9.7386,\n",
      "          -8.9680,  13.2495,  10.9625,  14.8365],\n",
      "        [ -3.2787,  29.1115,   5.7478,  -2.1763,  -4.8116,   7.2536,\n",
      "           5.7102,   0.6100,  -4.1684,   2.6432],\n",
      "        [-11.0311,  15.4797,   2.5710,  -3.3242,   5.9264,   3.5397,\n",
      "           1.6484,   8.1458,   5.8863,   3.9419],\n",
      "        [ -2.8951,  21.8620,   0.2071,  -5.8780,   3.6759,  -0.8843,\n",
      "           4.4078,   7.2662,   8.2339,  10.0011],\n",
      "        [ -8.3974,  20.7028,  -3.3816,  -1.9610,   2.9289,  11.0593,\n",
      "           2.8565,  14.1290,   3.3391,  11.4935],\n",
      "        [ -2.3626,  20.5290,   2.1505,  -5.1596,   8.6492,   9.3198,\n",
      "          -6.0084,   8.4907,   7.6108,   8.8843],\n",
      "        [ -6.4875,  16.7557,  -2.4978,   2.0852,  -9.5897,   5.2747,\n",
      "           9.8997,   5.1011,   6.1404,   6.5752],\n",
      "        [ -5.6243,  22.4417,  -8.2216,  -3.1140,   2.5651,  -1.4036,\n",
      "           1.6131,  15.7563,   7.2738,   3.7972],\n",
      "        [ -2.2136,  30.4224,  -9.7010,  -1.1015,  -6.0177,   4.3520,\n",
      "           2.7931,  11.4618,   6.8013,   7.8806],\n",
      "        [-15.9654,  21.2705,  -6.7050,   1.3175,   2.6017,  -3.4536,\n",
      "           0.3960,   5.6285,   8.4507,  13.7783],\n",
      "        [ -4.3123,  28.2035,  -0.5397,  -1.4947,  10.6081,   4.9000,\n",
      "           2.2750,   7.9142,  11.2693,   8.5128],\n",
      "        [ -6.4469,  28.1623,   1.3827,   3.4197,   4.9902,   3.1153,\n",
      "           3.9169,   5.8169,   8.0796,  10.0165],\n",
      "        [  0.9093,  20.7557,  -5.5202,  -0.5566,   0.2263,  10.2915,\n",
      "           2.4305,   9.4181,  -0.4596,   6.7791],\n",
      "        [ -1.9340,  20.1369, -11.3460,   1.8847,   2.3737,  -6.9940,\n",
      "          -5.0342,  10.4328,  15.9037,   6.5531],\n",
      "        [-11.8487,  19.9390,  -5.2132,   2.1522,   2.8650,  -2.8394,\n",
      "           8.5365,   8.0957,  19.1980,   4.3411],\n",
      "        [-13.9593,  17.9366,  -2.8084,  -5.1209,   4.4277,  14.0424,\n",
      "           3.8645,   9.1352,   6.4129,   4.6385],\n",
      "        [ -3.8739,   8.6634,  -4.4454,  -7.7421,   2.9364,  -1.2041,\n",
      "          -6.1704,  11.7891,   3.7163,  11.9689],\n",
      "        [  1.2653,  18.6367, -10.3679,   6.5244,   6.4963,  -2.0232,\n",
      "           0.7375,   6.1215,  -6.7763,  17.7151],\n",
      "        [ -9.6103,  15.8575,   4.4131,  -7.2676,   8.7327,   6.3408,\n",
      "           3.8479,   6.4702,   5.7845,   4.7846],\n",
      "        [ -4.3164,  20.1113,   0.3173,   1.2288,  -4.6314,  -0.9676,\n",
      "          -7.9887,   7.9904,  -3.9983,   3.2427],\n",
      "        [ -6.0476,  25.6576, -10.3031,   0.9175,   4.7436,   5.6933,\n",
      "           5.0326,  15.2880,   7.3199,   8.3000],\n",
      "        [ -1.0148,  14.0992,  -6.9872,  -5.1323,   3.5220,  -8.0389,\n",
      "          -7.0915,   1.0765,  13.4310,   8.4911],\n",
      "        [ -5.0447,  22.7986, -10.6101,   1.8246,  -4.9972,  16.4765,\n",
      "           6.0008,   8.3111,  13.5779,   0.6237],\n",
      "        [  0.5305,  17.7301,  -4.7991,   3.0192,   1.0591,   1.9797,\n",
      "          -2.0413,   6.2003,   5.2042,  20.8748],\n",
      "        [ -4.5944,  16.0719,  -5.3759,  -4.7283,   4.2519,  -3.4652,\n",
      "           2.7450,  13.9067,  24.1897,  12.6428],\n",
      "        [-12.8325,  19.1475,   3.2358,   0.4749,   4.2532,   4.7482,\n",
      "           8.9013,   3.0711,   6.2995,   5.9702],\n",
      "        [ -6.5102,  21.7485,   1.9030,  -8.0254,   3.6093,   5.4931,\n",
      "          -2.1613,  12.0970,   4.5565,  12.3603],\n",
      "        [ -8.1411,  25.4607,  -0.8164,  -1.8419,  -1.2334,   9.6522,\n",
      "           5.0834,   1.0047,   7.0162,  -3.6963],\n",
      "        [ -2.3957,  25.2107,  -3.6461,  -3.4675,  -0.8726,   3.4644,\n",
      "           6.4721,   9.7069,  -8.3563,   9.1039],\n",
      "        [-10.4500,  11.4581,   4.6532,   2.8438,  -3.3229,  -2.4285,\n",
      "         -10.7245,   5.2029,   8.8603,   1.6276],\n",
      "        [ -0.7780,  15.1467,  -4.8037,  -6.4148,   3.9063,  16.9378,\n",
      "          -1.3730,  12.2400,   5.5965,  12.3023],\n",
      "        [ -7.7408,  10.1949,   3.4409,  -2.8998,   8.4254,   9.6044,\n",
      "          -2.6985,  14.3163,  10.7227,  14.8965],\n",
      "        [  6.4624,  23.3039,  -6.7353,   3.3623,   7.0766,   4.2763,\n",
      "          -4.8479,  11.1821,  -4.6729,   4.6569],\n",
      "        [  7.9783,  22.5057,  -3.6082,  -3.3930,  -4.3394,   4.7398,\n",
      "          -1.5113,   4.0805,  11.2411,   6.4838],\n",
      "        [ -2.0322,  14.4388,  -7.5777,  -4.1315,  -0.2646,   5.7144,\n",
      "           5.9312,  17.0871,   7.0088,  10.3227],\n",
      "        [ -4.2475,  17.4317,  -1.5143,   0.8860,   9.6426,  11.6818,\n",
      "          -0.1913,   1.1836,   2.6626,   9.9073],\n",
      "        [  8.1018,  22.9561,  -8.6193, -10.1057,  12.9738,  -3.1004,\n",
      "          -3.3551,   6.9704,   5.4986,  10.6733],\n",
      "        [-12.7305,  17.5757,  -1.6494,  -1.7290,   8.4713,  -1.1777,\n",
      "           5.0412,  13.7945,  10.3114,   8.7723],\n",
      "        [ -2.1072,  14.0671,  -0.7314,  -3.6509,  -3.0690,  12.0708,\n",
      "           1.1715,   9.9287,  13.8236,   4.9340],\n",
      "        [ -8.8452,  16.5239,  -0.1410,  -7.0084,  -1.1815,   2.8625,\n",
      "          -4.8155,  15.2781,   3.0845,   7.8577],\n",
      "        [-12.7032,  16.0552,  -0.1662,  -2.2461,   3.2740,   8.0000,\n",
      "           7.3264,  11.2667,  -1.6715,   8.8246],\n",
      "        [ -2.2949,  22.1709,   1.8457,  -1.5488,  11.3132,   9.7264,\n",
      "          -1.2861,   7.2624,   2.9309,  21.2500],\n",
      "        [-12.1270,  20.9485,   5.7888,   5.6520,   3.4393,   2.8244,\n",
      "          11.9171,  11.3626,   5.8450,  14.0362],\n",
      "        [ -8.7355,  20.6622,  -4.8283,   4.2783,   5.0396,   0.2097,\n",
      "          -5.1332,  10.4795,   3.5070,  11.0957],\n",
      "        [-11.5498,  23.0313,  -1.5943,  -2.6915,  -0.2321,   1.8395,\n",
      "           8.0078,  12.1944,   4.1313,   8.4560],\n",
      "        [ -9.0055,  20.7476,   1.1661,  -1.6627,   7.6235,  13.7580,\n",
      "           0.9514,   7.0538,   6.6021,   8.1017],\n",
      "        [-14.3317,  21.8971,   7.1847,  -3.4784,   2.9310,   5.8323,\n",
      "           2.5110,   5.5533,   5.9305,   1.9467],\n",
      "        [  5.4107,  40.6307, -13.8343,  -2.4170,   6.4009,   9.1155,\n",
      "          -4.1000,   7.4917,  -0.1849,  13.4948],\n",
      "        [ -6.9676,  21.7512,  -5.0589,  -8.0354,   8.1399,  -1.7597,\n",
      "           9.7121,  13.4628,  12.2433,   9.5429],\n",
      "        [  1.9479,  16.6035,  -3.9979, -11.5433,   3.1140,  -4.1450,\n",
      "           5.7424,  17.1218,  -3.3348,   5.0091],\n",
      "        [ -1.4061,  21.0222,  -2.9924,   1.9735,  -4.9839,   8.7471,\n",
      "           3.3067,  11.7372,  15.3559,  13.5341],\n",
      "        [ -4.6684,  16.5726,  -3.5862,  -0.4205,  12.1411,  -4.6325,\n",
      "           5.7534,   8.2422,   2.0489,   7.0809],\n",
      "        [ -6.0447,  19.8125,   2.4905,   8.6529,   8.2069,   6.9087,\n",
      "          -2.8504,   8.7217,   1.2035,   7.5240],\n",
      "        [-11.6180,  16.7170,  -1.3486,   6.2944,  -3.2980,   0.8517,\n",
      "           4.6199,  12.4803,  -2.4692,   7.3788],\n",
      "        [  3.5071,  21.5253,  -5.1147,  -1.6788,   1.1646,   8.6359,\n",
      "           1.5803,  12.3045,   7.6159,   7.9907],\n",
      "        [ -4.9479,  25.6618,   5.0086, -10.2699,   6.3447,   7.2578,\n",
      "           3.3811,  21.0675,  -2.2015,  19.2589],\n",
      "        [ -6.4259,  18.9326,  -1.6314,  -0.1530,   2.0123,  10.9331,\n",
      "           3.4460,   4.4894,  12.4355,   6.0938],\n",
      "        [ -6.4230,  20.3918,   2.4901,  -1.9956,  11.3157,   3.0361,\n",
      "           1.0406,  10.1567,   9.1451,   5.3147]])\n"
     ]
    }
   ],
   "source": [
    "## Your solution\n",
    "def activation(x):\n",
    "    return 1/(1 + torch.exp(-x))\n",
    "\n",
    "# Flatten the input images - reshape with view.\n",
    "inputs = images.view(images.shape[0], -1)\n",
    "\n",
    "# Create parameters\n",
    "w1 = torch.randn(784, 256)\n",
    "b1 = torch.randn(256)\n",
    "\n",
    "w2 = torch.randn(256, 10)\n",
    "b2 = torch.randn(10)\n",
    "\n",
    "h = activation(torch.mm(inputs, w1) + b1)\n",
    "\n",
    "out = torch.mm(h, w2) + b2\n",
    "# output of your network, should have shape (64,10)\n",
    "print(out.shape)\n",
    "print(out)"
   ]
  },
  {
   "cell_type": "markdown",
   "metadata": {},
   "source": [
    "Now we have 10 outputs for our network. We want to pass in an image to our network and get out a probability distribution over the classes that tells us the likely class(es) the image belongs to. Something that looks like this:\n",
    "<img src='assets/image_distribution.png' width=500px>\n",
    "\n",
    "Here we see that the probability for each class is roughly the same. This is representing an untrained network, it hasn't seen any data yet so it just returns a uniform distribution with equal probabilities for each class.\n",
    "\n",
    "To calculate this probability distribution, we often use the [**softmax** function](https://en.wikipedia.org/wiki/Softmax_function). Mathematically this looks like\n",
    "\n",
    "$$\n",
    "\\Large \\sigma(x_i) = \\cfrac{e^{x_i}}{\\sum_k^K{e^{x_k}}}\n",
    "$$\n",
    "\n",
    "What this does is squish each input $x_i$ between 0 and 1 and normalizes the values to give you a proper probability distribution where the probabilites sum up to one.\n",
    "\n",
    "> **Exercise:** Implement a function `softmax` that performs the softmax calculation and returns probability distributions for each example in the batch. Note that you'll need to pay attention to the shapes when doing this. If you have a tensor `a` with shape `(64, 10)` and a tensor `b` with shape `(64,)`, doing `a/b` will give you an error because PyTorch will try to do the division across the columns (called broadcasting) but you'll get a size mismatch. The way to think about this is for each of the 64 examples, you only want to divide by one value, the sum in the denominator. So you need `b` to have a shape of `(64, 1)`. This way PyTorch will divide the 10 values in each row of `a` by the one value in each row of `b`. Pay attention to how you take the sum as well. You'll need to define the `dim` keyword in `torch.sum`. Setting `dim=0` takes the sum across the rows while `dim=1` takes the sum across the columns."
   ]
  },
  {
   "cell_type": "code",
   "execution_count": 12,
   "metadata": {},
   "outputs": [
    {
     "name": "stdout",
     "output_type": "stream",
     "text": [
      "torch.Size([64, 10])\n",
      "tensor([ 1.0000,  1.0000,  1.0000,  1.0000,  1.0000,  1.0000,  1.0000,\n",
      "         1.0000,  1.0000,  1.0000,  1.0000,  1.0000,  1.0000,  1.0000,\n",
      "         1.0000,  1.0000,  1.0000,  1.0000,  1.0000,  1.0000,  1.0000,\n",
      "         1.0000,  1.0000,  1.0000,  1.0000,  1.0000,  1.0000,  1.0000,\n",
      "         1.0000,  1.0000,  1.0000,  1.0000,  1.0000,  1.0000,  1.0000,\n",
      "         1.0000,  1.0000,  1.0000,  1.0000,  1.0000,  1.0000,  1.0000,\n",
      "         1.0000,  1.0000,  1.0000,  1.0000,  1.0000,  1.0000,  1.0000,\n",
      "         1.0000,  1.0000,  1.0000,  1.0000,  1.0000,  1.0000,  1.0000,\n",
      "         1.0000,  1.0000,  1.0000,  1.0000,  1.0000,  1.0000,  1.0000,\n",
      "         1.0000])\n"
     ]
    }
   ],
   "source": [
    "def softmax(x):\n",
    "    ## TODO: Implement the softmax function here\n",
    "    return torch.exp(x)/torch.sum(torch.exp(x), dim=1).view(-1, 1)\n",
    "\n",
    "# Here, out should be the output of the network in the previous excercise with shape (64,10)\n",
    "probabilities = softmax(out)\n",
    "\n",
    "# Does it have the right shape? Should be (64, 10)\n",
    "print(probabilities.shape)\n",
    "# Does it sum to 1?\n",
    "print(probabilities.sum(dim=1))"
   ]
  },
  {
   "cell_type": "markdown",
   "metadata": {},
   "source": [
    "## Building networks with PyTorch\n",
    "\n",
    "PyTorch provides a module `nn` that makes building networks much simpler. Here I'll show you how to build the same one as above with 784 inputs, 256 hidden units, 10 output units and a softmax output."
   ]
  },
  {
   "cell_type": "code",
   "execution_count": 13,
   "metadata": {},
   "outputs": [],
   "source": [
    "from torch import nn"
   ]
  },
  {
   "cell_type": "code",
   "execution_count": 15,
   "metadata": {},
   "outputs": [],
   "source": [
    "class Network(nn.Module):\n",
    "    def __init__(self):\n",
    "        super().__init__()\n",
    "        \n",
    "        # Inputs to hidden layer linear transformation\n",
    "        self.hidden = nn.Linear(784, 256)\n",
    "        # Output layer, 10 units - one for each digit\n",
    "        self.output = nn.Linear(256, 10)\n",
    "        \n",
    "        # Define sigmoid activation and softmax output for probability distribution \n",
    "        self.sigmoid = nn.Sigmoid()\n",
    "        self.softmax = nn.Softmax(dim=1)\n",
    "        \n",
    "    def forward(self, x):\n",
    "        # Pass the input tensor through each of our operations\n",
    "        x = self.hidden(x)\n",
    "        x = self.sigmoid(x)\n",
    "        x = self.output(x)\n",
    "        x = self.softmax(x)\n",
    "        \n",
    "        return x"
   ]
  },
  {
   "cell_type": "markdown",
   "metadata": {},
   "source": [
    "Let's go through this bit by bit.\n",
    "\n",
    "```python\n",
    "class Network(nn.Module):\n",
    "```\n",
    "\n",
    "Here we're inheriting from `nn.Module`. Combined with `super().__init__()` this creates a class that tracks the architecture and provides a lot of useful methods and attributes. It is mandatory to inherit from `nn.Module` when you're creating a class for your network. The name of the class itself can be anything.\n",
    "\n",
    "```python\n",
    "self.hidden = nn.Linear(784, 256)\n",
    "```\n",
    "\n",
    "This line creates a module for a linear transformation, $x\\mathbf{W} + b$, with 784 inputs and 256 outputs and assigns it to `self.hidden`. The module automatically creates the weight and bias tensors which we'll use in the `forward` method. You can access the weight and bias tensors once the network (`net`) is created with `net.hidden.weight` and `net.hidden.bias`.\n",
    "\n",
    "```python\n",
    "self.output = nn.Linear(256, 10)\n",
    "```\n",
    "\n",
    "Similarly, this creates another linear transformation with 256 inputs and 10 outputs.\n",
    "\n",
    "```python\n",
    "self.sigmoid = nn.Sigmoid()\n",
    "self.softmax = nn.Softmax(dim=1)\n",
    "```\n",
    "\n",
    "Here I defined operations for the sigmoid activation and softmax output. Setting `dim=1` in `nn.Softmax(dim=1)` calculates softmax across the columns.\n",
    "\n",
    "```python\n",
    "def forward(self, x):\n",
    "```\n",
    "\n",
    "PyTorch networks created with `nn.Module` must have a `forward` method defined. It takes in a tensor `x` and passes it through the operations you defined in the `__init__` method.\n",
    "\n",
    "```python\n",
    "x = self.hidden(x)\n",
    "x = self.sigmoid(x)\n",
    "x = self.output(x)\n",
    "x = self.softmax(x)\n",
    "```\n",
    "\n",
    "Here the input tensor `x` is passed through each operation a reassigned to `x`. We can see that the input tensor goes through the hidden layer, then a sigmoid function, then the output layer, and finally the softmax function. It doesn't matter what you name the variables here, as long as the inputs and outputs of the operations match the network architecture you want to build. The order in which you define things in the `__init__` method doesn't matter, but you'll need to sequence the operations correctly in the `forward` method.\n",
    "\n",
    "Now we can create a `Network` object."
   ]
  },
  {
   "cell_type": "code",
   "execution_count": 16,
   "metadata": {},
   "outputs": [
    {
     "data": {
      "text/plain": [
       "Network(\n",
       "  (hidden): Linear(in_features=784, out_features=256, bias=True)\n",
       "  (output): Linear(in_features=256, out_features=10, bias=True)\n",
       "  (sigmoid): Sigmoid()\n",
       "  (softmax): Softmax()\n",
       ")"
      ]
     },
     "execution_count": 16,
     "metadata": {},
     "output_type": "execute_result"
    }
   ],
   "source": [
    "# Create the network and look at it's text representation\n",
    "model = Network()\n",
    "model"
   ]
  },
  {
   "cell_type": "markdown",
   "metadata": {},
   "source": [
    "You can define the network somewhat more concisely and clearly using the `torch.nn.functional` module. This is the most common way you'll see networks defined as many operations are simple element-wise functions. We normally import this module as `F`, `import torch.nn.functional as F`."
   ]
  },
  {
   "cell_type": "code",
   "execution_count": 17,
   "metadata": {},
   "outputs": [],
   "source": [
    "import torch.nn.functional as F\n",
    "\n",
    "class Network(nn.Module):\n",
    "    def __init__(self):\n",
    "        super().__init__()\n",
    "        # Inputs to hidden layer linear transformation\n",
    "        self.hidden = nn.Linear(784, 256)\n",
    "        # Output layer, 10 units - one for each digit\n",
    "        self.output = nn.Linear(256, 10)\n",
    "        \n",
    "    def forward(self, x):\n",
    "        # Hidden layer with sigmoid activation\n",
    "        x = F.sigmoid(self.hidden(x))\n",
    "        # Output layer with softmax activation\n",
    "        x = F.softmax(self.output(x), dim=1)\n",
    "        \n",
    "        return x"
   ]
  },
  {
   "cell_type": "markdown",
   "metadata": {},
   "source": [
    "### Activation functions\n",
    "\n",
    "So far we've only been looking at the softmax activation, but in general any function can be used as an activation function. The only requirement is that for a network to approximate a non-linear function, the activation functions must be non-linear. Here are a few more examples of common activation functions: Tanh (hyperbolic tangent), and ReLU (rectified linear unit).\n",
    "\n",
    "<img src=\"assets/activation.png\" width=700px>\n",
    "\n",
    "In practice, the ReLU function is used almost exclusively as the activation function for hidden layers."
   ]
  },
  {
   "cell_type": "markdown",
   "metadata": {},
   "source": [
    "### Your Turn to Build a Network\n",
    "\n",
    "<img src=\"assets/mlp_mnist.png\" width=600px>\n",
    "\n",
    "> **Exercise:** Create a network with 784 input units, a hidden layer with 128 units and a ReLU activation, then a hidden layer with 64 units and a ReLU activation, and finally an output layer with a softmax activation as shown above. You can use a ReLU activation with the `nn.ReLU` module or `F.relu` function."
   ]
  },
  {
   "cell_type": "code",
   "execution_count": 24,
   "metadata": {
    "scrolled": true
   },
   "outputs": [
    {
     "data": {
      "text/plain": [
       "Network(\n",
       "  (fc1): Linear(in_features=784, out_features=128, bias=True)\n",
       "  (fc2): Linear(in_features=128, out_features=64, bias=True)\n",
       "  (fc3): Linear(in_features=64, out_features=10, bias=True)\n",
       ")"
      ]
     },
     "execution_count": 24,
     "metadata": {},
     "output_type": "execute_result"
    }
   ],
   "source": [
    "## Solution\n",
    "\n",
    "class Network(nn.Module):\n",
    "    def __init__(self):\n",
    "        super().__init__()\n",
    "        # Defining the layers, 128, 64, 10 units each\n",
    "        self.fc1 = nn.Linear(784, 128)\n",
    "        self.fc2 = nn.Linear(128, 64)\n",
    "        # Output layer, 10 units - one for each digit\n",
    "        self.fc3 = nn.Linear(64, 10)\n",
    "        \n",
    "    def forward(self, x):\n",
    "        ''' Forward pass through the network, returns the output logits '''\n",
    "        \n",
    "        x = self.fc1(x)\n",
    "        x = F.relu(x)\n",
    "        x = self.fc2(x)\n",
    "        x = F.relu(x)\n",
    "        x = self.fc3(x)\n",
    "        x = F.softmax(x, dim=1)\n",
    "        \n",
    "        return x\n",
    "\n",
    "model = Network()\n",
    "model"
   ]
  },
  {
   "cell_type": "markdown",
   "metadata": {},
   "source": [
    "### Initializing weights and biases\n",
    "\n",
    "The weights and such are automatically initialized for you, but it's possible to customize how they are initialized. The weights and biases are tensors attached to the layer you defined, you can get them with `model.fc1.weight` for instance."
   ]
  },
  {
   "cell_type": "code",
   "execution_count": 25,
   "metadata": {},
   "outputs": [
    {
     "name": "stdout",
     "output_type": "stream",
     "text": [
      "Parameter containing:\n",
      "tensor([[ 7.6095e-03,  8.6029e-03, -2.6616e-02,  ...,  2.0127e-02,\n",
      "         -4.6732e-03,  4.0220e-03],\n",
      "        [-2.8198e-02,  8.6031e-03, -1.6873e-03,  ..., -3.4689e-02,\n",
      "         -3.1591e-02, -1.3726e-02],\n",
      "        [ 1.3752e-02,  3.5658e-02,  3.4021e-02,  ...,  1.7416e-02,\n",
      "         -1.4607e-03, -3.2805e-02],\n",
      "        ...,\n",
      "        [-1.6427e-02,  1.8247e-02,  2.9129e-02,  ..., -3.0921e-02,\n",
      "         -9.6939e-03,  3.0318e-02],\n",
      "        [ 3.2982e-02, -2.5397e-02, -1.7220e-03,  ...,  5.4652e-04,\n",
      "         -3.2800e-02, -9.7822e-05],\n",
      "        [-2.1318e-02, -1.8631e-02,  5.1653e-04,  ...,  3.5312e-02,\n",
      "         -1.6409e-02, -9.0707e-03]])\n",
      "Parameter containing:\n",
      "tensor(1.00000e-02 *\n",
      "       [-1.8998, -2.0131,  0.5830,  2.5323, -1.4391,  1.3183,  1.0148,\n",
      "         0.3491,  3.1847,  3.2189,  2.3744, -2.8577,  1.4783,  0.7256,\n",
      "        -2.6287,  0.4383, -1.3055,  0.2399,  0.2142, -1.0255,  1.5664,\n",
      "         3.3616, -1.4168, -2.0110,  3.1775, -2.5657, -0.9744, -2.8277,\n",
      "        -0.0517,  1.4691,  3.0305, -1.9766,  1.6575,  0.0699,  1.7558,\n",
      "         0.1222,  2.4056, -1.6257, -1.8637, -2.7072, -0.2480, -0.6529,\n",
      "         2.5774, -2.0250,  3.0126, -3.3198, -3.3057,  0.6005, -0.8404,\n",
      "        -1.3090, -1.2404, -3.2396,  3.5193,  1.7415,  1.8727,  2.2924,\n",
      "         1.4173,  0.5951, -3.2043,  0.6175, -1.7304,  1.7551, -1.2167,\n",
      "        -1.9881,  0.1079, -1.4707,  0.5621,  2.4013,  0.5137,  1.8344,\n",
      "         1.8629,  1.5444, -0.3249, -3.1966,  1.0469,  2.1328, -0.8679,\n",
      "         0.1639, -1.6560,  2.2659,  3.1839,  2.2005,  2.6446, -1.8852,\n",
      "         2.6523, -0.3683, -0.9903,  1.0151,  0.6935, -1.9219,  0.8350,\n",
      "        -0.5523,  1.4770,  0.6658, -2.5389,  2.2561,  0.1815, -3.1235,\n",
      "         1.0610,  3.5631, -2.6046,  1.9425, -0.4672,  1.6806, -1.2702,\n",
      "         2.3545, -0.8072,  1.3945, -1.0701,  2.4667,  0.5584, -3.0371,\n",
      "        -0.2822, -0.2413,  3.3203, -0.8035, -3.2635, -0.7628, -2.8994,\n",
      "         0.6801,  0.3438, -2.9501,  0.2690, -0.4224, -2.4120, -0.6208,\n",
      "         2.4710, -2.3600])\n"
     ]
    }
   ],
   "source": [
    "print(model.fc1.weight)\n",
    "print(model.fc1.bias)"
   ]
  },
  {
   "cell_type": "markdown",
   "metadata": {},
   "source": [
    "For custom initialization, we want to modify these tensors in place. These are actually autograd *Variables*, so we need to get back the actual tensors with `model.fc1.weight.data`. Once we have the tensors, we can fill them with zeros (for biases) or random normal values."
   ]
  },
  {
   "cell_type": "code",
   "execution_count": 26,
   "metadata": {},
   "outputs": [
    {
     "data": {
      "text/plain": [
       "tensor([ 0.,  0.,  0.,  0.,  0.,  0.,  0.,  0.,  0.,  0.,  0.,  0.,\n",
       "         0.,  0.,  0.,  0.,  0.,  0.,  0.,  0.,  0.,  0.,  0.,  0.,\n",
       "         0.,  0.,  0.,  0.,  0.,  0.,  0.,  0.,  0.,  0.,  0.,  0.,\n",
       "         0.,  0.,  0.,  0.,  0.,  0.,  0.,  0.,  0.,  0.,  0.,  0.,\n",
       "         0.,  0.,  0.,  0.,  0.,  0.,  0.,  0.,  0.,  0.,  0.,  0.,\n",
       "         0.,  0.,  0.,  0.,  0.,  0.,  0.,  0.,  0.,  0.,  0.,  0.,\n",
       "         0.,  0.,  0.,  0.,  0.,  0.,  0.,  0.,  0.,  0.,  0.,  0.,\n",
       "         0.,  0.,  0.,  0.,  0.,  0.,  0.,  0.,  0.,  0.,  0.,  0.,\n",
       "         0.,  0.,  0.,  0.,  0.,  0.,  0.,  0.,  0.,  0.,  0.,  0.,\n",
       "         0.,  0.,  0.,  0.,  0.,  0.,  0.,  0.,  0.,  0.,  0.,  0.,\n",
       "         0.,  0.,  0.,  0.,  0.,  0.,  0.,  0.])"
      ]
     },
     "execution_count": 26,
     "metadata": {},
     "output_type": "execute_result"
    }
   ],
   "source": [
    "# Set biases to all zeros\n",
    "model.fc1.bias.data.fill_(0)"
   ]
  },
  {
   "cell_type": "code",
   "execution_count": 27,
   "metadata": {},
   "outputs": [
    {
     "data": {
      "text/plain": [
       "tensor([[ 1.3120e-03,  1.3892e-02,  4.1032e-04,  ..., -3.4785e-03,\n",
       "          1.4899e-02, -8.1394e-04],\n",
       "        [-7.0237e-03,  1.3203e-02,  5.6562e-03,  ..., -3.8025e-03,\n",
       "          2.1158e-02,  4.2800e-03],\n",
       "        [-1.5613e-02, -9.9332e-04,  1.5916e-02,  ...,  1.3440e-02,\n",
       "         -1.1879e-02, -5.7457e-03],\n",
       "        ...,\n",
       "        [-7.0120e-03, -9.6089e-03,  1.9890e-03,  ..., -4.1595e-03,\n",
       "          5.0000e-03,  4.4779e-03],\n",
       "        [-4.4783e-03,  7.7834e-03,  7.4033e-03,  ...,  7.7305e-03,\n",
       "         -6.2140e-03, -1.4901e-03],\n",
       "        [-1.6114e-03,  7.7828e-03, -1.4439e-02,  ...,  5.8818e-03,\n",
       "         -4.8180e-04,  3.9754e-03]])"
      ]
     },
     "execution_count": 27,
     "metadata": {},
     "output_type": "execute_result"
    }
   ],
   "source": [
    "# sample from random normal with standard dev = 0.01\n",
    "model.fc1.weight.data.normal_(std=0.01)"
   ]
  },
  {
   "cell_type": "markdown",
   "metadata": {},
   "source": [
    "### Forward pass\n",
    "\n",
    "Now that we have a network, let's see what happens when we pass in an image."
   ]
  },
  {
   "cell_type": "code",
   "execution_count": 28,
   "metadata": {},
   "outputs": [
    {
     "data": {
      "image/png": "[encoded data removed]",
      "text/plain": [
       "<matplotlib.figure.Figure at 0x7f2fd9272908>"
      ]
     },
     "metadata": {
      "image/png": {
       "height": 224,
       "width": 423
      },
      "needs_background": "light"
     },
     "output_type": "display_data"
    }
   ],
   "source": [
    "# Grab some data \n",
    "dataiter = iter(trainloader)\n",
    "images, labels = dataiter.next()\n",
    "\n",
    "# Resize images into a 1D vector, new shape is (batch size, color channels, image pixels) \n",
    "images.resize_(64, 1, 784)\n",
    "# or images.resize_(images.shape[0], 1, 784) to automatically get batch size\n",
    "\n",
    "# Forward pass through the network\n",
    "img_idx = 0\n",
    "ps = model.forward(images[img_idx,:])\n",
    "\n",
    "img = images[img_idx]\n",
    "helper.view_classify(img.view(1, 28, 28), ps)"
   ]
  },
  {
   "cell_type": "markdown",
   "metadata": {},
   "source": [
    "As you can see above, our network has basically no idea what this digit is. It's because we haven't trained it yet, all the weights are random!\n",
    "\n",
    "### Using `nn.Sequential`\n",
    "\n",
    "PyTorch provides a convenient way to build networks like this where a tensor is passed sequentially through operations, `nn.Sequential` ([documentation](https://pytorch.org/docs/master/nn.html#torch.nn.Sequential)). Using this to build the equivalent network:"
   ]
  },
  {
   "cell_type": "code",
   "execution_count": 29,
   "metadata": {},
   "outputs": [
    {
     "name": "stdout",
     "output_type": "stream",
     "text": [
      "Sequential(\n",
      "  (0): Linear(in_features=784, out_features=128, bias=True)\n",
      "  (1): ReLU()\n",
      "  (2): Linear(in_features=128, out_features=64, bias=True)\n",
      "  (3): ReLU()\n",
      "  (4): Linear(in_features=64, out_features=10, bias=True)\n",
      "  (5): Softmax()\n",
      ")\n"
     ]
    },
    {
     "data": {
      "image/png": "[encoded data removed]",
      "text/plain": [
       "<matplotlib.figure.Figure at 0x7f2fdc666c88>"
      ]
     },
     "metadata": {
      "image/png": {
       "height": 224,
       "width": 423
      },
      "needs_background": "light"
     },
     "output_type": "display_data"
    }
   ],
   "source": [
    "# Hyperparameters for our network\n",
    "input_size = 784\n",
    "hidden_sizes = [128, 64]\n",
    "output_size = 10\n",
    "\n",
    "# Build a feed-forward network\n",
    "model = nn.Sequential(nn.Linear(input_size, hidden_sizes[0]),\n",
    "                      nn.ReLU(),\n",
    "                      nn.Linear(hidden_sizes[0], hidden_sizes[1]),\n",
    "                      nn.ReLU(),\n",
    "                      nn.Linear(hidden_sizes[1], output_size),\n",
    "                      nn.Softmax(dim=1))\n",
    "print(model)\n",
    "\n",
    "# Forward pass through the network and display output\n",
    "images, labels = next(iter(trainloader))\n",
    "images.resize_(images.shape[0], 1, 784)\n",
    "ps = model.forward(images[0,:])\n",
    "helper.view_classify(images[0].view(1, 28, 28), ps)"
   ]
  },
  {
   "cell_type": "markdown",
   "metadata": {},
   "source": [
    "Here our model is the same as before: 784 input units, a hidden layer with 128 units, ReLU activation, 64 unit hidden layer, another ReLU, then the output layer with 10 units, and the softmax output.\n",
    "\n",
    "The operations are availble by passing in the appropriate index. For example, if you want to get first Linear operation and look at the weights, you'd use `model[0]`."
   ]
  },
  {
   "cell_type": "code",
   "execution_count": 30,
   "metadata": {},
   "outputs": [
    {
     "name": "stdout",
     "output_type": "stream",
     "text": [
      "Linear(in_features=784, out_features=128, bias=True)\n"
     ]
    },
    {
     "data": {
      "text/plain": [
       "Parameter containing:\n",
       "tensor([[-3.2994e-02, -4.2099e-04,  7.1326e-03,  ...,  3.1133e-02,\n",
       "         -3.5648e-02,  2.1385e-02],\n",
       "        [ 2.9955e-02, -3.9402e-03,  2.3586e-02,  ...,  2.8917e-02,\n",
       "          1.9090e-02, -1.6538e-04],\n",
       "        [ 1.0985e-03, -1.5116e-02,  1.0036e-02,  ...,  1.5556e-02,\n",
       "         -1.3989e-02,  1.1288e-02],\n",
       "        ...,\n",
       "        [ 1.8294e-02,  2.1439e-02,  7.5643e-03,  ..., -2.3368e-02,\n",
       "          2.0509e-02, -1.3784e-02],\n",
       "        [ 1.3923e-03,  3.0436e-03, -1.1608e-02,  ...,  3.4166e-02,\n",
       "         -1.4500e-02,  2.1269e-03],\n",
       "        [-2.4185e-02, -1.7510e-02, -1.0021e-02,  ...,  1.2915e-02,\n",
       "         -2.7443e-02,  3.4688e-02]])"
      ]
     },
     "execution_count": 30,
     "metadata": {},
     "output_type": "execute_result"
    }
   ],
   "source": [
    "print(model[0])\n",
    "model[0].weight"
   ]
  },
  {
   "cell_type": "markdown",
   "metadata": {},
   "source": [
    "You can also pass in an `OrderedDict` to name the individual layers and operations, instead of using incremental integers. Note that dictionary keys must be unique, so _each operation must have a different name_."
   ]
  },
  {
   "cell_type": "code",
   "execution_count": 31,
   "metadata": {},
   "outputs": [
    {
     "data": {
      "text/plain": [
       "Sequential(\n",
       "  (fc1): Linear(in_features=784, out_features=128, bias=True)\n",
       "  (relu1): ReLU()\n",
       "  (fc2): Linear(in_features=128, out_features=64, bias=True)\n",
       "  (relu2): ReLU()\n",
       "  (output): Linear(in_features=64, out_features=10, bias=True)\n",
       "  (softmax): Softmax()\n",
       ")"
      ]
     },
     "execution_count": 31,
     "metadata": {},
     "output_type": "execute_result"
    }
   ],
   "source": [
    "from collections import OrderedDict\n",
    "model = nn.Sequential(OrderedDict([\n",
    "                      ('fc1', nn.Linear(input_size, hidden_sizes[0])),\n",
    "                      ('relu1', nn.ReLU()),\n",
    "                      ('fc2', nn.Linear(hidden_sizes[0], hidden_sizes[1])),\n",
    "                      ('relu2', nn.ReLU()),\n",
    "                      ('output', nn.Linear(hidden_sizes[1], output_size)),\n",
    "                      ('softmax', nn.Softmax(dim=1))]))\n",
    "model"
   ]
  },
  {
   "cell_type": "markdown",
   "metadata": {},
   "source": [
    "Now you can access layers either by integer or the name"
   ]
  },
  {
   "cell_type": "code",
   "execution_count": 32,
   "metadata": {},
   "outputs": [
    {
     "name": "stdout",
     "output_type": "stream",
     "text": [
      "Linear(in_features=784, out_features=128, bias=True)\n",
      "Linear(in_features=784, out_features=128, bias=True)\n"
     ]
    }
   ],
   "source": [
    "print(model[0])\n",
    "print(model.fc1)"
   ]
  },
  {
   "cell_type": "markdown",
   "metadata": {},
   "source": [
    "In the next notebook, we'll see how we can train a neural network to accuractly predict the numbers appearing in the MNIST images."
   ]
  }
 ],
 "metadata": {
  "kernelspec": {
   "display_name": "Python 3",
   "language": "python",
   "name": "python3"
  },
  "language_info": {
   "codemirror_mode": {
    "name": "ipython",
    "version": 3
   },
   "file_extension": ".py",
   "mimetype": "text/x-python",
   "name": "python",
   "nbconvert_exporter": "python",
   "pygments_lexer": "ipython3",
   "version": "3.6.3"
  }
 },
 "nbformat": 4,
 "nbformat_minor": 2
}
